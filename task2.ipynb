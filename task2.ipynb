{
 "cells": [
  {
   "cell_type": "code",
   "execution_count": 2,
   "metadata": {},
   "outputs": [],
   "source": [
    "import numpy as np\n",
    "from scipy import stats\n",
    "import matplotlib.pyplot as plt\n",
    "import math\n",
    "\n",
    "\n",
    "%matplotlib inline"
   ]
  },
  {
   "cell_type": "code",
   "execution_count": 3,
   "metadata": {},
   "outputs": [],
   "source": [
    "def minor(arr,i,j):\n",
    "    # ith row, jth column removed\n",
    "    return arr[np.array(list(range(i))+list(range(i+1,arr.shape[0])))[:,np.newaxis],\n",
    "               np.array(list(range(j))+list(range(j+1,arr.shape[1])))]"
   ]
  },
  {
   "cell_type": "markdown",
   "metadata": {},
   "source": [
    "# Задание 2.\n",
    "Случайный вектор $(\\xi_1, \\xi_2, \\xi_3, \\xi_4, \\xi_5, \\eta)$ имеет компоненты, распределённые по следующему закону\n",
    "\n",
    "$\\xi_i \\sim U[-1, 1]$, $\\eta \\sim N(2+3x_1-2x_2+x_3+x_4-x_5, 1.5^2)$, где $x_i$ это значения, которые принимает случайная величина $\\xi_i$. Сгенерировать выборку объёма n=50"
   ]
  },
  {
   "cell_type": "markdown",
   "metadata": {},
   "source": [
    "## 1. Генерируем выборку"
   ]
  },
  {
   "cell_type": "code",
   "execution_count": 4,
   "metadata": {},
   "outputs": [],
   "source": [
    "params = {\n",
    "    'n_samples': 50,\n",
    "    'n_features': 6,\n",
    "    'sigma': 1.5\n",
    "}"
   ]
  },
  {
   "cell_type": "markdown",
   "metadata": {},
   "source": [
    "### $\\xi_i \\sim U[-1, 1]$"
   ]
  },
  {
   "cell_type": "code",
   "execution_count": 5,
   "metadata": {},
   "outputs": [],
   "source": [
    "np.random.seed(42)\n",
    "ksi = 2*np.random.rand(params['n_samples'], params['n_features']-1)-1"
   ]
  },
  {
   "cell_type": "markdown",
   "metadata": {},
   "source": [
    "### $\\eta \\sim N(2+3x_1-2x_2+x_3+x_4-x_5, 1.5^2)$"
   ]
  },
  {
   "cell_type": "code",
   "execution_count": 6,
   "metadata": {},
   "outputs": [],
   "source": [
    "L = np.array([2, 3, -2, 1, 1, -1], dtype=np.float32).reshape(-1, 1)\n",
    "observations = np.hstack((np.ones_like(ksi[:, 0]).reshape(-1, 1), ksi))\n",
    "y_true = observations@L\n",
    "\n",
    "eta = y_true + np.random.normal(loc=0, scale=params['sigma'], size=params['n_samples']).reshape(-1, 1)"
   ]
  },
  {
   "cell_type": "code",
   "execution_count": 7,
   "metadata": {},
   "outputs": [],
   "source": [
    "def make_correlation_matrix(observations):\n",
    "    means = observations.mean(axis=0)  # output shape (6, )\n",
    "    obs_centered = observations-means.reshape(1, -1)\n",
    "    covariance = obs_centered.T@obs_centered\n",
    "    sigmas = np.diag(covariance)**0.5\n",
    "    denominator = sigmas.reshape(-1, 1)*sigmas.reshape(1, -1)\n",
    "    return covariance/denominator\n",
    "\n",
    "covariance_matrix = make_correlation_matrix(observations[:, 1:])"
   ]
  },
  {
   "cell_type": "code",
   "execution_count": 8,
   "metadata": {},
   "outputs": [
    {
     "name": "stdout",
     "output_type": "stream",
     "text": [
      "Ковариационная матрица: \n",
      "\n",
      "[[ 1.      -0.1421  -0.33102 -0.01341 -0.03378]\n",
      " [-0.1421   1.       0.21995  0.02763 -0.22868]\n",
      " [-0.33102  0.21995  1.      -0.02046  0.00605]\n",
      " [-0.01341  0.02763 -0.02046  1.       0.19713]\n",
      " [-0.03378 -0.22868  0.00605  0.19713  1.     ]]\n"
     ]
    }
   ],
   "source": [
    "def pretty_print(x):\n",
    "    arr_string = np.array2string(x, precision=5)\n",
    "    print(arr_string)\n",
    "    \n",
    "print('Ковариационная матрица: \\n')\n",
    "pretty_print(covariance_matrix)"
   ]
  },
  {
   "cell_type": "code",
   "execution_count": 9,
   "metadata": {},
   "outputs": [
    {
     "name": "stdout",
     "output_type": "stream",
     "text": [
      "r_0_1 [-0.40323736  0.14327865]\n",
      "r_0_2 [-0.55562513 -0.05464737]\n",
      "r_0_3 [-0.29054688  0.26605808]\n",
      "r_0_4 [-0.30890606  0.24721528]\n",
      "r_1_2 [-0.06444484  0.46779663]\n",
      "r_1_3 [-0.25292563  0.3033857 ]\n",
      "r_1_4 [-0.4748832   0.05536689]\n",
      "r_2_3 [-0.29692081  0.2595641 ]\n",
      "r_2_4 [-0.27281158  0.28386542]\n",
      "r_3_4 [-0.08792661  0.44914285]\n"
     ]
    },
    {
     "name": "stderr",
     "output_type": "stream",
     "text": [
      "/home/alexandr/anaconda3/envs/diploma/lib/python3.6/site-packages/ipykernel_launcher.py:5: RuntimeWarning: divide by zero encountered in arctanh\n",
      "  \"\"\"\n",
      "/home/alexandr/anaconda3/envs/diploma/lib/python3.6/site-packages/ipykernel_launcher.py:5: RuntimeWarning: invalid value encountered in arctanh\n",
      "  \"\"\"\n",
      "/home/alexandr/anaconda3/envs/diploma/lib/python3.6/site-packages/ipykernel_launcher.py:6: RuntimeWarning: divide by zero encountered in arctanh\n",
      "  \n",
      "/home/alexandr/anaconda3/envs/diploma/lib/python3.6/site-packages/ipykernel_launcher.py:6: RuntimeWarning: invalid value encountered in arctanh\n",
      "  \n"
     ]
    }
   ],
   "source": [
    "from IPython.display import display, Math, Latex\n",
    "\n",
    "def pairwise_corr_matrix_ci(corr_matrix, n, beta=0.95):\n",
    "    u_b = stats.norm.ppf(0.5*(1+beta))\n",
    "    z1 = np.arctanh(corr_matrix) - 0.5*corr_matrix/(n-1) - u_b/math.sqrt(n-3)\n",
    "    z2 = np.arctanh(corr_matrix) - 0.5*corr_matrix/(n-1) + u_b/math.sqrt(n-3)\n",
    "    lower_bound = np.tanh(z1)\n",
    "    upper_bound = np.tanh(z2)\n",
    "       \n",
    "    ci = np.dstack([lower_bound, upper_bound])\n",
    "        \n",
    "    for i, ci_1 in enumerate(ci):\n",
    "        for j, ci_2 in enumerate(ci_1[i+1:]):\n",
    "            print(f'r_{i}_{j+i+1}', ci_2)\n",
    "\n",
    "    \n",
    "pairwise_corr_matrix_ci(covariance_matrix, 50)"
   ]
  },
  {
   "cell_type": "markdown",
   "metadata": {},
   "source": [
    "## проверка гипотезы зависимости\n",
    "\n",
    "$\n",
    "H_0: r_{ij}=0 \\\\\n",
    "H_1: r_{ij} \\ne 0\n",
    "$"
   ]
  },
  {
   "cell_type": "code",
   "execution_count": 10,
   "metadata": {},
   "outputs": [
    {
     "name": "stdout",
     "output_type": "stream",
     "text": [
      "[[0.5     0.83754 0.99056 0.53682 0.59207]\n",
      " [0.83754 0.5     0.06242 0.42447 0.94491]\n",
      " [0.99056 0.06242 0.5     0.55606 0.48336]\n",
      " [0.53682 0.42447 0.55606 0.5     0.085  ]\n",
      " [0.59207 0.94491 0.48336 0.085   0.5    ]]\n"
     ]
    }
   ],
   "source": [
    "def dependence_test(covariance, n):\n",
    "    covariance_matrix = covariance - np.eye(covariance.shape[0])\n",
    "    \n",
    "    delta = covariance_matrix*math.sqrt(n-2)/np.sqrt(1-covariance_matrix**2)\n",
    "    \n",
    "    p_values = stats.t.sf(delta, n-2)\n",
    "    \n",
    "    pretty_print(p_values)\n",
    "    \n",
    "dependence_test(covariance_matrix, params['n_samples'])"
   ]
  },
  {
   "cell_type": "markdown",
   "metadata": {},
   "source": [
    "Все коэффициенты, за исклбчением быть может $r_{4, 5}$ прошли тест"
   ]
  },
  {
   "cell_type": "markdown",
   "metadata": {},
   "source": [
    "## очищенный коэффициент корреляции"
   ]
  },
  {
   "cell_type": "code",
   "execution_count": 11,
   "metadata": {},
   "outputs": [
    {
     "name": "stdout",
     "output_type": "stream",
     "text": [
      "[[ 1.      -0.1421  -0.33102 -0.01341 -0.03378]\n",
      " [-0.1421   1.       0.21995  0.02763 -0.22868]\n",
      " [-0.33102  0.21995  1.      -0.02046  0.00605]\n",
      " [-0.01341  0.02763 -0.02046  1.       0.19713]\n",
      " [-0.03378 -0.22868  0.00605  0.19713  1.     ]]\n",
      "[[-1.      -0.08473 -0.30768 -0.00796 -0.0502 ]\n",
      " [-0.08473 -1.       0.19176  0.08243 -0.25034]\n",
      " [-0.30768  0.19176 -1.      -0.04106  0.04777]\n",
      " [-0.00796  0.08243 -0.04106 -1.       0.21046]\n",
      " [-0.0502  -0.25034  0.04777  0.21046 -1.     ]]\n"
     ]
    }
   ],
   "source": [
    "def get_ro(Q):\n",
    "    ro = np.zeros_like(Q)\n",
    "    for i, row in enumerate(Q):\n",
    "        for j, elem in enumerate(row):\n",
    "            Q_ij = (-1)**(i+j)*np.linalg.det(minor(Q, i, j))\n",
    "            Q_jj = (-1)**(j+j)*np.linalg.det(minor(Q, j, j))\n",
    "            Q_ii = (-1)**(i+i)*np.linalg.det(minor(Q, i, i))\n",
    "            ro[i, j] = (-1) * Q_ij / np.sqrt(Q_ii*Q_jj)\n",
    "    return ro\n",
    "\n",
    "ro = get_ro(covariance_matrix)\n",
    "pretty_print(covariance_matrix)\n",
    "pretty_print(ro)"
   ]
  },
  {
   "cell_type": "code",
   "execution_count": 12,
   "metadata": {},
   "outputs": [
    {
     "name": "stdout",
     "output_type": "stream",
     "text": [
      "[[0.5     0.82691 0.98768 0.53524 0.58817]\n",
      " [0.82691 0.5     0.07095 0.42769 0.93683]\n",
      " [0.98768 0.07095 0.5     0.55367 0.48408]\n",
      " [0.53524 0.42769 0.55367 0.5     0.09457]\n",
      " [0.58817 0.93683 0.48408 0.09457 0.5    ]]\n"
     ]
    }
   ],
   "source": [
    "dependence_test(covariance_matrix, params['n_samples']+2-params['n_features'])"
   ]
  },
  {
   "cell_type": "markdown",
   "metadata": {},
   "source": [
    "## Тест пирсона"
   ]
  },
  {
   "cell_type": "markdown",
   "metadata": {},
   "source": [
    "В документации сказано, что стоит им пользоваться при n>500, так что он не очень здесь подходит"
   ]
  },
  {
   "cell_type": "code",
   "execution_count": 13,
   "metadata": {},
   "outputs": [
    {
     "name": "stdout",
     "output_type": "stream",
     "text": [
      "1:2 r = -0.1421, p-value = 0.3249\n",
      "1:3 r = -0.331, p-value = 0.01887\n",
      "1:4 r = -0.01341, p-value = 0.9264\n",
      "1:5 r = -0.03378, p-value = 0.8159\n",
      "2:3 r = 0.2199, p-value = 0.1248\n",
      "2:4 r = 0.02763, p-value = 0.8489\n",
      "2:5 r = -0.2287, p-value = 0.1102\n",
      "3:4 r = -0.02046, p-value = 0.8879\n",
      "3:5 r = 0.006053, p-value = 0.9667\n",
      "4:5 r = 0.1971, p-value = 0.17\n"
     ]
    }
   ],
   "source": [
    "observation_tr = observations.T\n",
    "for i in range(1, params['n_features']):\n",
    "    for j in range(i+1, params['n_features']):\n",
    "        a = observations[:, i]\n",
    "        b = observations[:, j]\n",
    "        print(\"{0}:{1} r = {2:.4}, p-value = {3:.4}\".format(i, j, *stats.pearsonr(a, b)))"
   ]
  },
  {
   "cell_type": "markdown",
   "metadata": {},
   "source": [
    "## 2. Уравнение линейной регрессии"
   ]
  },
  {
   "cell_type": "markdown",
   "metadata": {},
   "source": [
    "### 2.1 Коэффициенты"
   ]
  },
  {
   "cell_type": "code",
   "execution_count": 14,
   "metadata": {},
   "outputs": [],
   "source": [
    "F = observations.T@observations\n",
    "F_inv = np.linalg.inv(F)\n",
    "beta = F_inv@observations.T@eta"
   ]
  },
  {
   "cell_type": "code",
   "execution_count": 15,
   "metadata": {},
   "outputs": [],
   "source": [
    "# или через псевдообратную матрицу\n",
    "# y = Ax => x = pseudo_inverse(A)*y\n",
    "beta_1 = np.linalg.pinv(observations)@eta"
   ]
  },
  {
   "cell_type": "code",
   "execution_count": 16,
   "metadata": {},
   "outputs": [
    {
     "name": "stdout",
     "output_type": "stream",
     "text": [
      "Коэффициенты линейной регрессии\n",
      "[ 2.0699   2.75517 -2.14092  1.00962  0.76835 -1.21049]\n"
     ]
    }
   ],
   "source": [
    "print('Коэффициенты линейной регрессии')\n",
    "pretty_print(beta[:, 0])"
   ]
  },
  {
   "cell_type": "markdown",
   "metadata": {},
   "source": [
    "### 2.2 Значимость коэфициентов"
   ]
  },
  {
   "cell_type": "code",
   "execution_count": 17,
   "metadata": {},
   "outputs": [
    {
     "data": {
      "text/plain": [
       "129.49976494488024"
      ]
     },
     "execution_count": 17,
     "metadata": {},
     "output_type": "execute_result"
    }
   ],
   "source": [
    "y_estimated = observations@beta\n",
    "errors = eta - y_estimated\n",
    "rss = (errors.T@errors)[0, 0]\n",
    "rss"
   ]
  },
  {
   "cell_type": "code",
   "execution_count": 18,
   "metadata": {},
   "outputs": [],
   "source": [
    "def significance_test(beta, F_inv, rss, n):\n",
    "    \"\"\"\n",
    "    beta is an array with shape [n_features, 1]\n",
    "    F_inv is an array with shape [n_features, n_features]\n",
    "    \"\"\"\n",
    "    p = F_inv.shape[0]\n",
    "    diag = np.diag(F_inv).reshape(-1, 1)\n",
    "    delta = beta * math.sqrt(n-p) / np.sqrt(diag*rss)\n",
    "    degrees_of_freedom = n-p\n",
    "    p_values = stats.t.sf(np.abs(delta), degrees_of_freedom)\n",
    "    \n",
    "#     print('delta:')\n",
    "#     pretty_print(delta[:, 0])\n",
    "#     print('')\n",
    "    \n",
    "#     print('p_values:')\n",
    "#     pretty_print(p_values[:, 0])\n",
    "    return p_values\n",
    "\n",
    "p_values = significance_test(beta, F_inv, rss, params['n_samples'])"
   ]
  },
  {
   "cell_type": "markdown",
   "metadata": {},
   "source": [
    "Можно принять, что при p-value меньше 0.05 альтернативная гипотеза принимается, а значит коэффициент значимый"
   ]
  },
  {
   "cell_type": "code",
   "execution_count": 19,
   "metadata": {},
   "outputs": [
    {
     "name": "stdout",
     "output_type": "stream",
     "text": [
      "p-value теста на значимость для beta_0 = 2.0699044106439626 равен 5.58565126992056e-11\n",
      "p-value теста на значимость для beta_1 = 2.7551697250067524 равен 5.693268274621846e-08\n",
      "p-value теста на значимость для beta_2 = -2.1409204420128543 равен 9.66581336696048e-06\n",
      "p-value теста на значимость для beta_3 = 1.0096160496557551 равен 0.0126890270760508\n",
      "p-value теста на значимость для beta_4 = 0.7683526281707027 равен 0.033993137643700606\n",
      "p-value теста на значимость для beta_5 = -1.2104888881099156 равен 0.003984155738591228\n"
     ]
    }
   ],
   "source": [
    "for i, p in enumerate(p_values[:, 0]):\n",
    "    print(f'p-value теста на значимость для beta_{i} = {beta[i, 0]} равен {p}')"
   ]
  },
  {
   "cell_type": "markdown",
   "metadata": {},
   "source": [
    "## 3. Коэффициент детерминации"
   ]
  },
  {
   "cell_type": "code",
   "execution_count": 20,
   "metadata": {},
   "outputs": [
    {
     "name": "stdout",
     "output_type": "stream",
     "text": [
      "Коэффициент детерминации R^2 = 0.62638\n"
     ]
    }
   ],
   "source": [
    "y_mean = eta.mean()\n",
    "rss_0 = np.sum((eta-y_mean)**2)\n",
    "r_2 = 1 - rss/rss_0\n",
    "\n",
    "print('Коэффициент детерминации R^2 = {:.5f}'.format(r_2))"
   ]
  },
  {
   "cell_type": "markdown",
   "metadata": {},
   "source": [
    "### 3.2 Проверка на значимость"
   ]
  },
  {
   "cell_type": "code",
   "execution_count": 21,
   "metadata": {},
   "outputs": [
    {
     "name": "stdout",
     "output_type": "stream",
     "text": [
      "p-value для теста на значимость коэффициента детерминации = 1.703381653768345e-08\n"
     ]
    }
   ],
   "source": [
    "delta_r_2 = ((params['n_samples'] - params['n_features']) / (params['n_features'] - 1)) * (r_2 / (1 - r_2))\n",
    "p_value_r_2 = stats.f.sf(delta_r_2, params['n_features']-1, params['n_samples'] - params['n_features'])\n",
    "print('p-value для теста на значимость коэффициента детерминации = {}'.format(p_value_r_2))"
   ]
  },
  {
   "cell_type": "markdown",
   "metadata": {},
   "source": [
    "Значит, можно принять гипотезу о том, что коэффициент значимый"
   ]
  },
  {
   "cell_type": "markdown",
   "metadata": {},
   "source": [
    "## 4. Найти значение в точке (0, 0, 0, 0, 0)"
   ]
  },
  {
   "cell_type": "code",
   "execution_count": 22,
   "metadata": {},
   "outputs": [
    {
     "name": "stdout",
     "output_type": "stream",
     "text": [
      "y_estimated(x_0) = 3.2516334833544023\n"
     ]
    }
   ],
   "source": [
    "x_0 = np.zeros((1, params['n_features']))\n",
    "x_0[0] = 1\n",
    "y_0 = x_0@beta\n",
    "print('y_estimated(x_0) =', y_0[0, 0])"
   ]
  },
  {
   "cell_type": "markdown",
   "metadata": {},
   "source": [
    "### 95% Доверительный интервал"
   ]
  },
  {
   "cell_type": "code",
   "execution_count": 53,
   "metadata": {},
   "outputs": [
    {
     "name": "stdout",
     "output_type": "stream",
     "text": [
      "[-5.38769 -4.82873]\n"
     ]
    }
   ],
   "source": [
    "def confidence_interval(x_0, beta, F_inv, rss, params, quantile=0.95):\n",
    "    alpha = (1-quantile)/2\n",
    "    df = params['n_samples'] - params['n_features']\n",
    "    \n",
    "    quantiles = stats.t.ppf((alpha, 1-alpha), df)\n",
    "    tmp = np.diag(x_0@(F_inv@x_0.T))\n",
    "    multiplier = np.sqrt(rss*(1+tmp)) / math.sqrt(df)\n",
    "    \n",
    "    return x_0@beta + quantiles.reshape(-1, 1)*multiplier\n",
    "\n",
    "pretty_print(confidence_interval(x_0, beta, F_inv, rss, params, quantile=0.9)[:, 0])"
   ]
  },
  {
   "cell_type": "markdown",
   "metadata": {},
   "source": [
    "## Проверка предположения о независимости/случайности ошибок распределения"
   ]
  },
  {
   "cell_type": "code",
   "execution_count": 24,
   "metadata": {},
   "outputs": [
    {
     "name": "stdout",
     "output_type": "stream",
     "text": [
      "p-значение для теста на случайность ошибки: 0.284843051281288\n"
     ]
    }
   ],
   "source": [
    "def count_g_elem(elem, arr):\n",
    "    out = 0\n",
    "    for i in arr:\n",
    "        if i>elem:\n",
    "            out += 1\n",
    "    return out\n",
    "\n",
    "def randomness_hyp(e):\n",
    "    inversions = 0\n",
    "    \n",
    "    for i, elem in enumerate(e):\n",
    "        inversions += count_g_elem(elem, e[i:])\n",
    "    \n",
    "    n = e.shape[0]\n",
    "    delta = (inversions-n*(n-1)/4) / np.sqrt((n**3)/36)\n",
    "    p_value = stats.norm.sf(delta)\n",
    "    return p_value\n",
    "    \n",
    "print('p-значение для теста на случайность ошибки:', randomness_hyp(errors.reshape(-1)))"
   ]
  },
  {
   "cell_type": "markdown",
   "metadata": {},
   "source": [
    "Больше 0.05"
   ]
  },
  {
   "cell_type": "markdown",
   "metadata": {},
   "source": [
    "## Предположение о нормальности распределения ошибок"
   ]
  },
  {
   "cell_type": "markdown",
   "metadata": {},
   "source": [
    "##### 1. Тест [Shapiro-Wilk](http://webspace.ship.edu/pgmarr/Geo441/Readings/Shapiro%20and%20Wilk%201965%20-%20An%20Analysis%20of%20Variance%20Test%20for%20Normality.pdf)"
   ]
  },
  {
   "cell_type": "code",
   "execution_count": 25,
   "metadata": {},
   "outputs": [
    {
     "name": "stdout",
     "output_type": "stream",
     "text": [
      "W = 0.9677, p-value = 0.1866\n"
     ]
    }
   ],
   "source": [
    "print(\"W = {0:.4}, p-value = {1:.4}\".format(*stats.shapiro(eta)))"
   ]
  },
  {
   "cell_type": "markdown",
   "metadata": {},
   "source": [
    "##### 2. Критерий Колмогорова"
   ]
  },
  {
   "cell_type": "code",
   "execution_count": 36,
   "metadata": {},
   "outputs": [],
   "source": [
    "import math\n",
    "import scipy\n",
    "from tqdm import tqdm_notebook\n",
    "\n",
    "def construct_f_hat(x):\n",
    "    n = len(x) if isinstance(x, (list, tuple)) else x.shape[0]\n",
    "    delta_f = 1.0/(n)\n",
    "    \n",
    "    \n",
    "def get_delta(x):\n",
    "    \"\"\"\n",
    "    Theta1 and theta2 are parameters from raw data\n",
    "    \n",
    "    \"\"\"\n",
    "    n = len(x) if isinstance(x, (list, tuple)) else x.shape[0]\n",
    "    theta1_hat = np.mean(x)\n",
    "    theta2_hat = np.sqrt((1/(n-1))*np.sum((x-theta1_hat)**2))\n",
    "    \n",
    "    delta_f = 1.0/(n)\n",
    "    f2 = stats.norm.cdf(x, loc=theta1_hat, scale=theta2_hat)\n",
    "    f1 = np.array([delta_f*(i+1) for i in range(n)])\n",
    "    return  math.sqrt(n)*np.max(np.abs(f2-f1))"
   ]
  },
  {
   "cell_type": "code",
   "execution_count": 34,
   "metadata": {},
   "outputs": [
    {
     "data": {
      "application/vnd.jupyter.widget-view+json": {
       "model_id": "1c7e30ac8167474b85236f2b33aa8b7c",
       "version_major": 2,
       "version_minor": 0
      },
      "text/plain": [
       "HBox(children=(IntProgress(value=0, max=1000000), HTML(value='')))"
      ]
     },
     "metadata": {},
     "output_type": "display_data"
    },
    {
     "name": "stdout",
     "output_type": "stream",
     "text": [
      "\n"
     ]
    }
   ],
   "source": [
    "theta1 = np.mean(eta)\n",
    "theta2 = math.sqrt((1/(params['n_samples']-1))*np.sum((eta-theta1)**2))\n",
    "\n",
    "deltas = []\n",
    "N = 1e6\n",
    "samples = stats.norm.rvs(\n",
    "    loc=theta1, scale=theta2, size=params['n_samples']*N)\n",
    "\n",
    "for i in tqdm_notebook(range(N)):\n",
    "    batch = samples[params['n_samples']*i:params['n_samples']*(i+1)]\n",
    "    delta = get_delta(batch, theta1, theta2)\n",
    "    deltas.append(delta)"
   ]
  },
  {
   "cell_type": "code",
   "execution_count": 35,
   "metadata": {},
   "outputs": [
    {
     "data": {
      "image/png": "[encoded data removed]",
      "text/plain": [
       "<Figure size 432x288 with 1 Axes>"
      ]
     },
     "metadata": {
      "needs_background": "light"
     },
     "output_type": "display_data"
    }
   ],
   "source": [
    "plt.hist(deltas, bins=50)\n",
    "plt.show()"
   ]
  },
  {
   "cell_type": "code",
   "execution_count": 38,
   "metadata": {},
   "outputs": [],
   "source": [
    "delta = get_delta(eta)\n",
    "pos = np.digitize(delta, np.sort(deltas))"
   ]
  },
  {
   "cell_type": "code",
   "execution_count": 44,
   "metadata": {},
   "outputs": [
    {
     "name": "stdout",
     "output_type": "stream",
     "text": [
      "p-value: 0.954105\n"
     ]
    }
   ],
   "source": [
    "print('p-value:', pos/N)"
   ]
  },
  {
   "cell_type": "code",
   "execution_count": 42,
   "metadata": {},
   "outputs": [
    {
     "data": {
      "text/plain": [
       "6.855967088100751"
      ]
     },
     "execution_count": 42,
     "metadata": {},
     "output_type": "execute_result"
    }
   ],
   "source": [
    "delta"
   ]
  },
  {
   "cell_type": "markdown",
   "metadata": {},
   "source": [
    "## Кросс-проверка регрессии"
   ]
  },
  {
   "cell_type": "code",
   "execution_count": 49,
   "metadata": {},
   "outputs": [
    {
     "name": "stdout",
     "output_type": "stream",
     "text": [
      "0.9403682895337638\n"
     ]
    }
   ],
   "source": [
    "from sklearn.model_selection import LeaveOneOut\n",
    "\n",
    "residuals = []\n",
    "residuals0 = []\n",
    "\n",
    "loo = LeaveOneOut()\n",
    "\n",
    "for train_index, test_index in loo.split(observations.T):\n",
    "    X_train, X_test = observations[train_index], observations[test_index]\n",
    "    y_train, y_test = eta[train_index], eta[test_index]\n",
    "    beta = np.linalg.pinv(X_train)@y_train\n",
    "    rss = (y_test - X_test@beta)**2\n",
    "    residuals.append(rss)\n",
    "\n",
    "rss0 = np.sum((eta-eta.mean())**2)\n",
    "rss_star = sum(residuals)\n",
    "r_start_sq = 1 - rss_star/rss0\n",
    "print(np.squeeze(r_start_sq))"
   ]
  },
  {
   "cell_type": "code",
   "execution_count": null,
   "metadata": {},
   "outputs": [],
   "source": []
  }
 ],
 "metadata": {
  "kernelspec": {
   "display_name": "diploma",
   "language": "python",
   "name": "diploma"
  },
  "language_info": {
   "codemirror_mode": {
    "name": "ipython",
    "version": 3
   },
   "file_extension": ".py",
   "mimetype": "text/x-python",
   "name": "python",
   "nbconvert_exporter": "python",
   "pygments_lexer": "ipython3",
   "version": "3.6.8"
  }
 },
 "nbformat": 4,
 "nbformat_minor": 2
}
